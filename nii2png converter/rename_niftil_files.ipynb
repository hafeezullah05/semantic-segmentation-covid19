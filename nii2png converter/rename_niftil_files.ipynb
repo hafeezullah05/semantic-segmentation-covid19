{
 "cells": [
  {
   "cell_type": "code",
   "execution_count": 1,
   "id": "a95fa838",
   "metadata": {},
   "outputs": [],
   "source": [
    "import os"
   ]
  },
  {
   "cell_type": "code",
   "execution_count": 2,
   "id": "dba67d48",
   "metadata": {},
   "outputs": [],
   "source": [
    "# set default path to whatever folder need renaming\n",
    "#path = os.path.join(os.getcwd(), \"images/all images chronologically\", \"coronacases-org-002\")\n",
    "#path"
   ]
  },
  {
   "cell_type": "code",
   "execution_count": 4,
   "id": "183eb87e",
   "metadata": {},
   "outputs": [
    {
     "name": "stdout",
     "output_type": "stream",
     "text": [
      "done renaming all files\n"
     ]
    }
   ],
   "source": [
    "path = os.chdir(\"/Users/hafeez/Downloads/Task06_Lung/lung_mask/lung-002\")\n",
    "\n",
    "\n",
    "image_no = 127\n",
    "\n",
    "for file in os.listdir(path):\n",
    "    new_img_name = \"image.{}.png\".format(image_no)\n",
    "    os.rename(file, new_img_name)\n",
    "    \n",
    "    image_no = image_no+1\n",
    "    \n",
    "\n",
    "print(\"done renaming all files\")"
   ]
  },
  {
   "cell_type": "code",
   "execution_count": null,
   "id": "9de5a6d3",
   "metadata": {},
   "outputs": [],
   "source": []
  }
 ],
 "metadata": {
  "kernelspec": {
   "display_name": "Python 3.8.12 ('env')",
   "language": "python",
   "name": "python3812jvsc74a57bd0c880bba74e0d2f02be2bb66a01ae4c66e26cc2636f13eec45a6c862c4979a568"
  },
  "language_info": {
   "codemirror_mode": {
    "name": "ipython",
    "version": 3
   },
   "file_extension": ".py",
   "mimetype": "text/x-python",
   "name": "python",
   "nbconvert_exporter": "python",
   "pygments_lexer": "ipython3",
   "version": "3.8.12"
  }
 },
 "nbformat": 4,
 "nbformat_minor": 5
}
